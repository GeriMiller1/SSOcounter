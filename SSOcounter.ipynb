{
 "cells": [
  {
   "cell_type": "markdown",
   "metadata": {},
   "source": [
    "# SSO Counter\n",
    "Code from David Cordes, Tom Baker, Esri\n",
    "\n",
    "October 2018\n",
    "\n",
    "This script reads in AGO org prefixes from a file and checks to see if Enterprise Login in enabled. It write teh results out to a file. The datain file should list each org prefix on a newline with no other information.\n"
   ]
  },
  {
   "cell_type": "code",
   "execution_count": null,
   "metadata": {},
   "outputs": [],
   "source": [
    "import requests as r\n",
    "import csv\n",
    "temp=\"\"\n",
    "\n",
    "with open('data/datain.csv') as f:\n",
    "    reader = csv.reader(f)\n",
    "    for org in reader:\n",
    "        response = r.get(\"https://\" + org[0] + \".maps.arcgis.com/sharing/rest/oauth2/authorize?client_id=arcgisonline&redirect_uri=https://fakeorg.maps.arcgis.com/home/postsignin.html&showSocialLogins=false&hideEnterpriseLogins=false&response_type=token\")\n",
    "        content = response.text\n",
    "        startPositionInContent = content.find(\"idpName\")\n",
    "        if startPositionInContent == -1:\n",
    "            #print(org[0] + \",no\")\n",
    "            temp = temp + org[0] + \",no\\r\\n\"\n",
    "        else:\n",
    "            #print(org[0] + \",yes\")\n",
    "            temp = temp + org[0] + \",yes\\r\\n\"\n",
    "       \n",
    "w = open(\"data/dataout.txt\",\"w+\")\n",
    "w.write(temp)\n",
    "w.close()\n",
    "print(\"Complete.\")"
   ]
  }
 ],
 "metadata": {
  "kernelspec": {
   "display_name": "Python 3",
   "language": "python",
   "name": "python3"
  },
  "language_info": {
   "codemirror_mode": {
    "name": "ipython",
    "version": 3
   },
   "file_extension": ".py",
   "mimetype": "text/x-python",
   "name": "python",
   "nbconvert_exporter": "python",
   "pygments_lexer": "ipython3",
   "version": "3.6.1"
  }
 },
 "nbformat": 4,
 "nbformat_minor": 2
}
